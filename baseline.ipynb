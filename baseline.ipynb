{
 "cells": [
  {
   "cell_type": "code",
   "execution_count": 1,
   "metadata": {},
   "outputs": [],
   "source": [
    "import numpy as np\n",
    "import matplotlib.pyplot as plt\n",
    "\n",
    "%matplotlib inline\n",
    "\n",
    "# for auto-reloading extenrnal modules\n",
    "%load_ext autoreload\n",
    "%autoreload 2"
   ]
  },
  {
   "cell_type": "code",
   "execution_count": 10,
   "metadata": {},
   "outputs": [],
   "source": [
    "import csv\n",
    "\n",
    "#unixReviewTime = 0\n",
    "#reviewTime = 1\n",
    "#ratings = 2\n",
    "#reviewText = 3\n",
    "#reviewerID = 4\n",
    "#productID = 5\n",
    "\n",
    "unixReviewTime = []\n",
    "reviewTime = []\n",
    "ratings = []\n",
    "reviewText = []\n",
    "reviewerID = []\n",
    "productID = []\n",
    "\n",
    "with open('sportsTrain.csv', newline='') as csvfile:\n",
    "    reader = csv.reader(csvfile, delimiter=' ', quotechar='|')\n",
    "    for row in reader:\n",
    "        unixReviewTime.append(int(row[0]))\n",
    "        reviewTime.append(row[1])\n",
    "        ratings.append(int(row[2]))\n",
    "        reviewText.append(row[3])\n",
    "        reviewerID.append(row[4])\n",
    "        productID.append(row[5])\n",
    "        "
   ]
  },
  {
   "cell_type": "code",
   "execution_count": 12,
   "metadata": {},
   "outputs": [],
   "source": [
    "reviewTextLength = [len(r) for r in reviewText]"
   ]
  },
  {
   "cell_type": "code",
   "execution_count": 17,
   "metadata": {},
   "outputs": [
    {
     "data": {
      "text/plain": [
       "Text(0.5, 0, 'Review Length in Characters')"
      ]
     },
     "execution_count": 17,
     "metadata": {},
     "output_type": "execute_result"
    },
    {
     "data": {
      "image/png": "[encoded data removed]",
      "text/plain": [
       "<Figure size 432x288 with 1 Axes>"
      ]
     },
     "metadata": {
      "needs_background": "light"
     },
     "output_type": "display_data"
    }
   ],
   "source": [
    "plt.plot(reviewTextLength[:200], ratings[:200], 'b.')\n",
    "plt.ylabel('Rating')\n",
    "plt.xlabel('Review Length in Characters')"
   ]
  },
  {
   "cell_type": "code",
   "execution_count": null,
   "metadata": {},
   "outputs": [],
   "source": []
  }
 ],
 "metadata": {
  "kernelspec": {
   "display_name": "Python 3",
   "language": "python",
   "name": "python3"
  },
  "language_info": {
   "codemirror_mode": {
    "name": "ipython",
    "version": 3
   },
   "file_extension": ".py",
   "mimetype": "text/x-python",
   "name": "python",
   "nbconvert_exporter": "python",
   "pygments_lexer": "ipython3",
   "version": "3.7.3"
  }
 },
 "nbformat": 4,
 "nbformat_minor": 4
}
