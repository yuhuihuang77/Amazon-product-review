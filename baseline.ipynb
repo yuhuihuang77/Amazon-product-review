{
 "cells": [
  {
   "cell_type": "code",
   "execution_count": 1,
   "metadata": {},
   "outputs": [],
   "source": [
    "import numpy as np\n",
    "import matplotlib.pyplot as plt\n",
    "\n",
    "%matplotlib inline\n",
    "\n",
    "# for auto-reloading extenrnal modules\n",
    "%load_ext autoreload\n",
    "%autoreload 2"
   ]
  },
  {
   "cell_type": "code",
   "execution_count": 2,
   "metadata": {},
   "outputs": [],
   "source": [
    "# preprocessing\n",
    "from util import preprocessData, createFeatures\n",
    "\n",
    "(ratings, reviews) = preprocessData('sportsTrain.csv')"
   ]
  },
  {
   "cell_type": "code",
   "execution_count": 3,
   "metadata": {},
   "outputs": [
    {
     "name": "stdout",
     "output_type": "stream",
     "text": [
      "186490\n"
     ]
    }
   ],
   "source": [
    "# Building a dictionary\n",
    "dic = {}\n",
    "for review in reviews:\n",
    "    for word in review.split():\n",
    "        dic[word] = dic.get(word, 0) + 1\n",
    "print(len(dic))"
   ]
  },
  {
   "cell_type": "code",
   "execution_count": 4,
   "metadata": {},
   "outputs": [
    {
     "name": "stdout",
     "output_type": "stream",
     "text": [
      "7400 7400\n"
     ]
    }
   ],
   "source": [
    "# keeping words that occurs over 500 times\n",
    "occurenceThreshold = 500\n",
    "wordToIndex = {}\n",
    "indexToWord = []\n",
    "for key, value in dic.items():\n",
    "    if value > occurenceThreshold:\n",
    "        indexToWord.append(key)\n",
    "        wordToIndex[key] = len(indexToWord) - 1\n",
    "n = len(wordToIndex)\n",
    "print(len(wordToIndex), len(indexToWord))"
   ]
  },
  {
   "cell_type": "code",
   "execution_count": 5,
   "metadata": {},
   "outputs": [],
   "source": [
    "# create feature vector and labels\n",
    "(X, y) = createFeatures(reviews, ratings, wordToIndex, 100000)"
   ]
  },
  {
   "cell_type": "code",
   "execution_count": 6,
   "metadata": {
    "scrolled": true
   },
   "outputs": [],
   "source": [
    "# train a linear model\n",
    "from sklearn.linear_model import LinearRegression\n",
    "linReg = LinearRegression().fit(X, y)"
   ]
  },
  {
   "cell_type": "code",
   "execution_count": 7,
   "metadata": {},
   "outputs": [
    {
     "name": "stdout",
     "output_type": "stream",
     "text": [
      "284248\n"
     ]
    }
   ],
   "source": [
    "(ratingsVal, reviewsVal) = preprocessData('sportsDev.csv')\n",
    "print(len(ratingsVal))"
   ]
  },
  {
   "cell_type": "code",
   "execution_count": 11,
   "metadata": {},
   "outputs": [],
   "source": [
    "(Xval, yval) = createFeatures(reviewsVal, ratingsVal, wordToIndex, 10000)"
   ]
  },
  {
   "cell_type": "code",
   "execution_count": 12,
   "metadata": {},
   "outputs": [],
   "source": [
    "yPredict = linReg.predict(Xval)"
   ]
  },
  {
   "cell_type": "code",
   "execution_count": 34,
   "metadata": {},
   "outputs": [
    {
     "name": "stdout",
     "output_type": "stream",
     "text": [
      "[4.43059712 3.83051528]\n",
      "[2 4]\n",
      "['this product does the job dollar ', 'have enjoyed these resistance bands but after    number yr of use both the orange and purple have broken  not sure what expected shelf life is on product  dollar ']\n"
     ]
    }
   ],
   "source": [
    "begin = 8\n",
    "end = 10\n",
    "print(yPredict[begin:end])\n",
    "print(yval[begin:end])\n",
    "print(reviewsVal[begin:end])"
   ]
  },
  {
   "cell_type": "code",
   "execution_count": 26,
   "metadata": {},
   "outputs": [],
   "source": [
    "def accuracy(model, Xval, yval):\n",
    "    yPredict = model.predict(Xval)\n",
    "    yPredict = np.rint(yPredict)\n",
    "    yPredict[yPredict < 1] = 1\n",
    "    yPredict[yPredict > 5] = 5\n",
    "    correctness = (yPredict == np.array(yval))\n",
    "    return np.mean(correctness)"
   ]
  },
  {
   "cell_type": "code",
   "execution_count": 28,
   "metadata": {},
   "outputs": [
    {
     "data": {
      "text/plain": [
       "0.5942"
      ]
     },
     "execution_count": 28,
     "metadata": {},
     "output_type": "execute_result"
    }
   ],
   "source": [
    "accuracy(linReg, Xval, yval)"
   ]
  }
 ],
 "metadata": {
  "kernelspec": {
   "display_name": "Python 3",
   "language": "python",
   "name": "python3"
  },
  "language_info": {
   "codemirror_mode": {
    "name": "ipython",
    "version": 3
   },
   "file_extension": ".py",
   "mimetype": "text/x-python",
   "name": "python",
   "nbconvert_exporter": "python",
   "pygments_lexer": "ipython3",
   "version": "3.7.3"
  }
 },
 "nbformat": 4,
 "nbformat_minor": 4
}
