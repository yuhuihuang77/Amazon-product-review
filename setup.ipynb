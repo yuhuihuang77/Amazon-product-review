{
 "cells": [
  {
   "cell_type": "code",
   "execution_count": 8,
   "metadata": {},
   "outputs": [
    {
     "name": "stdout",
     "output_type": "stream",
     "text": [
      "The autoreload extension is already loaded. To reload it, use:\n",
      "  %reload_ext autoreload\n"
     ]
    }
   ],
   "source": [
    "import numpy as np\n",
    "import matplotlib.pyplot as plt\n",
    "\n",
    "%matplotlib inline\n",
    "\n",
    "# for auto-reloading extenrnal modules\n",
    "%load_ext autoreload\n",
    "%autoreload 2"
   ]
  },
  {
   "cell_type": "code",
   "execution_count": 9,
   "metadata": {},
   "outputs": [
    {
     "name": "stdout",
     "output_type": "stream",
     "text": [
      "{'overall': 5.0, 'verified': True, 'reviewTime': '06 3, 2015', 'reviewerID': 'A180LQZBUWVOLF', 'asin': '0000032034', 'reviewerName': 'Michelle A', 'reviewText': 'What a spectacular tutu! Very slimming.', 'summary': 'Five Stars', 'unixReviewTime': 1433289600}\n",
      "\n",
      "number of reviews: 2839940\n"
     ]
    }
   ],
   "source": [
    "from util import parse\n",
    "\n",
    "for review in parse(\"Sports_and_Outdoors_5.json.gz\"):\n",
    "    print(review)\n",
    "    break\n",
    "    \n",
    "count = 0\n",
    "for review in parse(\"Sports_and_Outdoors_5.json.gz\"):\n",
    "    count += 1\n",
    "print('\\nnumber of reviews:', count)"
   ]
  },
  {
   "cell_type": "code",
   "execution_count": 10,
   "metadata": {},
   "outputs": [],
   "source": [
    "unixReviewTime = []\n",
    "reviewTime = []\n",
    "ratings = []\n",
    "#reviewText = []\n",
    "#reviewerID = []\n",
    "#productID = []\n",
    "\n",
    "for review in parse(\"Sports_and_Outdoors_5.json.gz\"):\n",
    "    unixReviewTime.append(review['unixReviewTime'])\n",
    "    reviewTime.append(review['reviewTime'])\n",
    "    ratings.append(int(review['overall']))\n",
    "    #reviewText.appendnd(review['reviewText'])\n",
    "    #reviewerID.appendnd(review['reviewerID'])\n",
    "    #productID.appendnd(review['asin'])\n",
    "    "
   ]
  },
  {
   "cell_type": "code",
   "execution_count": 18,
   "metadata": {},
   "outputs": [
    {
     "data": {
      "text/plain": [
       "Text(0.5, 0, 'Rating')"
      ]
     },
     "execution_count": 18,
     "metadata": {},
     "output_type": "execute_result"
    },
    {
     "data": {
      "image/png": "[encoded data removed]",
      "text/plain": [
       "<Figure size 432x288 with 1 Axes>"
      ]
     },
     "metadata": {
      "needs_background": "light"
     },
     "output_type": "display_data"
    }
   ],
   "source": [
    "# the distribution of ratings\n",
    "ratingDist = np.zeros(6)\n",
    "for r in ratings:\n",
    "    ratingDist[r] += 1\n",
    "    \n",
    "# ploting the bar chart\n",
    "plt.bar(np.arange(6), ratingDist//1000)\n",
    "plt.title('Distribution of Ratings')\n",
    "plt.ylabel('Number of ratings in thousands')\n",
    "plt.xlabel('Rating')"
   ]
  },
  {
   "cell_type": "code",
   "execution_count": 44,
   "metadata": {},
   "outputs": [
    {
     "name": "stdout",
     "output_type": "stream",
     "text": [
      "Training set (80%): from 2000-09-14 17:00:00 to 2017-03-27 17:00:00\n",
      "Dev set (10%): from 2017-03-27 17:00:00 to 2017-10-17 17:00:00\n",
      "Test set (10%): from 2017-10-17 17:00:00 to 2018-10-03 17:00:00\n"
     ]
    }
   ],
   "source": [
    "# Review times\n",
    "from util import convertTime\n",
    "\n",
    "numReviews = len(unixReviewTime)\n",
    "unixReviewTime.sort()\n",
    "trainThres = unixReviewTime[int(numReviews*0.8)]\n",
    "devThres = unixReviewTime[int(numReviews*0.9)]\n",
    "\n",
    "print('Training set (80%): from', convertTime(unixReviewTime[0]), 'to', \n",
    "      convertTime(trainThres))\n",
    "print('Dev set (10%): from', convertTime(trainThres), 'to', \n",
    "      convertTime(devThres))\n",
    "print('Test set (10%): from', convertTime(devThres), 'to', \n",
    "      convertTime(unixReviewTime[-1]))"
   ]
  },
  {
   "cell_type": "code",
   "execution_count": 39,
   "metadata": {},
   "outputs": [],
   "source": [
    "# saving as train dev test sets\n",
    "train = []\n",
    "dev = []\n",
    "test = []\n",
    "\n",
    "#unixReviewTime = 0\n",
    "#reviewTime = 1\n",
    "#ratings = 2\n",
    "#reviewText = 3\n",
    "#reviewerID = 4\n",
    "#productID = 5\n",
    "\n",
    "for review in parse(\"Sports_and_Outdoors_5.json.gz\"):\n",
    "    newLine = []\n",
    "    newLine.append(review['unixReviewTime'])\n",
    "    newLine.append(review['reviewTime'])\n",
    "    newLine.append(int(review['overall']))\n",
    "    newLine.append(review.get('reviewText', ''))\n",
    "    newLine.append(review['reviewerID'])\n",
    "    newLine.append(review['asin'])\n",
    "    if review['unixReviewTime'] < trainThres:\n",
    "        train.append(newLine)\n",
    "    elif review['unixReviewTime'] < devThres:\n",
    "        dev.append(newLine)\n",
    "    else:\n",
    "        test.append(newLine)\n"
   ]
  },
  {
   "cell_type": "code",
   "execution_count": 43,
   "metadata": {},
   "outputs": [],
   "source": [
    "import csv\n",
    "# ----- writing training set ----------\n",
    "with open('sportsTrain.csv', 'w', newline='') as csvfile:\n",
    "    writer = csv.writer(csvfile, delimiter=' ',\n",
    "                            quotechar='|', quoting=csv.QUOTE_MINIMAL)\n",
    "    for review in train:\n",
    "        writer.writerow(review)\n",
    "        \n",
    "# ----- writing development set ----------     \n",
    "with open('sportsDev.csv', 'w', newline='') as csvfile:\n",
    "    writer = csv.writer(csvfile, delimiter=' ',\n",
    "                            quotechar='|', quoting=csv.QUOTE_MINIMAL)\n",
    "    for review in dev:\n",
    "        writer.writerow(review)\n",
    "        \n",
    "# ----- writing test set ----------   \n",
    "with open('sportsTest.csv', 'w', newline='') as csvfile:\n",
    "    writer = csv.writer(csvfile, delimiter=' ',\n",
    "                            quotechar='|', quoting=csv.QUOTE_MINIMAL)\n",
    "    for review in test:\n",
    "        writer.writerow(review)"
   ]
  }
 ],
 "metadata": {
  "kernelspec": {
   "display_name": "Python 3",
   "language": "python",
   "name": "python3"
  },
  "language_info": {
   "codemirror_mode": {
    "name": "ipython",
    "version": 3
   },
   "file_extension": ".py",
   "mimetype": "text/x-python",
   "name": "python",
   "nbconvert_exporter": "python",
   "pygments_lexer": "ipython3",
   "version": "3.7.3"
  }
 },
 "nbformat": 4,
 "nbformat_minor": 4
}
